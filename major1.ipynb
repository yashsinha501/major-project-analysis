{
 "cells": [
  {
   "cell_type": "code",
   "execution_count": 2,
   "metadata": {},
   "outputs": [],
   "source": [
    "import pandas as pd"
   ]
  },
  {
   "cell_type": "code",
   "execution_count": 60,
   "metadata": {},
   "outputs": [],
   "source": [
    "df=pd.read_csv('majorProject (1).csv')"
   ]
  },
  {
   "cell_type": "code",
   "execution_count": 61,
   "metadata": {},
   "outputs": [
    {
     "data": {
      "text/html": [
       "<div>\n",
       "<style scoped>\n",
       "    .dataframe tbody tr th:only-of-type {\n",
       "        vertical-align: middle;\n",
       "    }\n",
       "\n",
       "    .dataframe tbody tr th {\n",
       "        vertical-align: top;\n",
       "    }\n",
       "\n",
       "    .dataframe thead th {\n",
       "        text-align: right;\n",
       "    }\n",
       "</style>\n",
       "<table border=\"1\" class=\"dataframe\">\n",
       "  <thead>\n",
       "    <tr style=\"text-align: right;\">\n",
       "      <th></th>\n",
       "      <th>S.NO</th>\n",
       "      <th>NAME</th>\n",
       "      <th>CT1</th>\n",
       "      <th>CT2</th>\n",
       "      <th>UNIVERSITY MARKS</th>\n",
       "      <th>FEEDBACK</th>\n",
       "    </tr>\n",
       "  </thead>\n",
       "  <tbody>\n",
       "    <tr>\n",
       "      <th>0</th>\n",
       "      <td>1</td>\n",
       "      <td>Yash Sinha</td>\n",
       "      <td>18</td>\n",
       "      <td>0</td>\n",
       "      <td>79</td>\n",
       "      <td>Very Satisfied</td>\n",
       "    </tr>\n",
       "    <tr>\n",
       "      <th>1</th>\n",
       "      <td>2</td>\n",
       "      <td>Arpita Tiwari</td>\n",
       "      <td>20</td>\n",
       "      <td>19</td>\n",
       "      <td>75</td>\n",
       "      <td>Very Satisfied</td>\n",
       "    </tr>\n",
       "    <tr>\n",
       "      <th>2</th>\n",
       "      <td>3</td>\n",
       "      <td>Lalit Kumar</td>\n",
       "      <td>10</td>\n",
       "      <td>16</td>\n",
       "      <td>72</td>\n",
       "      <td>Fair</td>\n",
       "    </tr>\n",
       "    <tr>\n",
       "      <th>3</th>\n",
       "      <td>4</td>\n",
       "      <td>Vibhuti Mishra</td>\n",
       "      <td>18</td>\n",
       "      <td>17</td>\n",
       "      <td>81</td>\n",
       "      <td>Satisfied</td>\n",
       "    </tr>\n",
       "    <tr>\n",
       "      <th>4</th>\n",
       "      <td>5</td>\n",
       "      <td>Vibha Mishra</td>\n",
       "      <td>12</td>\n",
       "      <td>14</td>\n",
       "      <td>71</td>\n",
       "      <td>Satisfied</td>\n",
       "    </tr>\n",
       "    <tr>\n",
       "      <th>5</th>\n",
       "      <td>6</td>\n",
       "      <td>Arnab</td>\n",
       "      <td>16</td>\n",
       "      <td>15</td>\n",
       "      <td>72</td>\n",
       "      <td>Fair</td>\n",
       "    </tr>\n",
       "    <tr>\n",
       "      <th>6</th>\n",
       "      <td>7</td>\n",
       "      <td>Prateek Mallick</td>\n",
       "      <td>19</td>\n",
       "      <td>20</td>\n",
       "      <td>82</td>\n",
       "      <td>Very Satisfied</td>\n",
       "    </tr>\n",
       "    <tr>\n",
       "      <th>7</th>\n",
       "      <td>8</td>\n",
       "      <td>Abhijit</td>\n",
       "      <td>11</td>\n",
       "      <td>14</td>\n",
       "      <td>67</td>\n",
       "      <td>Fair</td>\n",
       "    </tr>\n",
       "    <tr>\n",
       "      <th>8</th>\n",
       "      <td>9</td>\n",
       "      <td>Diskha</td>\n",
       "      <td>14</td>\n",
       "      <td>10</td>\n",
       "      <td>76</td>\n",
       "      <td>Satisfied</td>\n",
       "    </tr>\n",
       "    <tr>\n",
       "      <th>9</th>\n",
       "      <td>10</td>\n",
       "      <td>Swati</td>\n",
       "      <td>16</td>\n",
       "      <td>17</td>\n",
       "      <td>70</td>\n",
       "      <td>Fair</td>\n",
       "    </tr>\n",
       "    <tr>\n",
       "      <th>10</th>\n",
       "      <td>11</td>\n",
       "      <td>Keshav</td>\n",
       "      <td>16</td>\n",
       "      <td>12</td>\n",
       "      <td>65</td>\n",
       "      <td>Satisfied</td>\n",
       "    </tr>\n",
       "    <tr>\n",
       "      <th>11</th>\n",
       "      <td>12</td>\n",
       "      <td>Yash Kashyap</td>\n",
       "      <td>8</td>\n",
       "      <td>11</td>\n",
       "      <td>61</td>\n",
       "      <td>Very Bad</td>\n",
       "    </tr>\n",
       "    <tr>\n",
       "      <th>12</th>\n",
       "      <td>13</td>\n",
       "      <td>Aaksah</td>\n",
       "      <td>5</td>\n",
       "      <td>7</td>\n",
       "      <td>52</td>\n",
       "      <td>Very Bad</td>\n",
       "    </tr>\n",
       "    <tr>\n",
       "      <th>13</th>\n",
       "      <td>14</td>\n",
       "      <td>Aditi</td>\n",
       "      <td>0</td>\n",
       "      <td>13</td>\n",
       "      <td>68</td>\n",
       "      <td>Very Bad</td>\n",
       "    </tr>\n",
       "    <tr>\n",
       "      <th>14</th>\n",
       "      <td>15</td>\n",
       "      <td>Sonam</td>\n",
       "      <td>10</td>\n",
       "      <td>14</td>\n",
       "      <td>63</td>\n",
       "      <td>Fair</td>\n",
       "    </tr>\n",
       "    <tr>\n",
       "      <th>15</th>\n",
       "      <td>16</td>\n",
       "      <td>Ankush</td>\n",
       "      <td>4</td>\n",
       "      <td>10</td>\n",
       "      <td>52</td>\n",
       "      <td>Bad</td>\n",
       "    </tr>\n",
       "    <tr>\n",
       "      <th>16</th>\n",
       "      <td>17</td>\n",
       "      <td>Prathytusha</td>\n",
       "      <td>20</td>\n",
       "      <td>0</td>\n",
       "      <td>83</td>\n",
       "      <td>Very Satisfied</td>\n",
       "    </tr>\n",
       "    <tr>\n",
       "      <th>17</th>\n",
       "      <td>18</td>\n",
       "      <td>shristy</td>\n",
       "      <td>13</td>\n",
       "      <td>17</td>\n",
       "      <td>64</td>\n",
       "      <td>Satisfied</td>\n",
       "    </tr>\n",
       "    <tr>\n",
       "      <th>18</th>\n",
       "      <td>19</td>\n",
       "      <td>Sarthak</td>\n",
       "      <td>16</td>\n",
       "      <td>12</td>\n",
       "      <td>52</td>\n",
       "      <td>Satisfied</td>\n",
       "    </tr>\n",
       "    <tr>\n",
       "      <th>19</th>\n",
       "      <td>20</td>\n",
       "      <td>Dhirendra</td>\n",
       "      <td>10</td>\n",
       "      <td>0</td>\n",
       "      <td>57</td>\n",
       "      <td>Bad</td>\n",
       "    </tr>\n",
       "  </tbody>\n",
       "</table>\n",
       "</div>"
      ],
      "text/plain": [
       "    S.NO             NAME  CT1  CT2  UNIVERSITY MARKS           FEEDBACK\n",
       "0      1       Yash Sinha   18    0                79  Very Satisfied   \n",
       "1      2    Arpita Tiwari   20   19                75  Very Satisfied   \n",
       "2      3      Lalit Kumar   10   16                72               Fair\n",
       "3      4   Vibhuti Mishra   18   17                81          Satisfied\n",
       "4      5     Vibha Mishra   12   14                71          Satisfied\n",
       "5      6           Arnab    16   15                72               Fair\n",
       "6      7  Prateek Mallick   19   20                82  Very Satisfied   \n",
       "7      8          Abhijit   11   14                67               Fair\n",
       "8      9           Diskha   14   10                76          Satisfied\n",
       "9     10            Swati   16   17                70               Fair\n",
       "10    11           Keshav   16   12                65          Satisfied\n",
       "11    12     Yash Kashyap    8   11                61           Very Bad\n",
       "12    13           Aaksah    5    7                52           Very Bad\n",
       "13    14            Aditi    0   13                68           Very Bad\n",
       "14    15            Sonam   10   14                63               Fair\n",
       "15    16           Ankush    4   10                52                Bad\n",
       "16    17      Prathytusha   20    0                83  Very Satisfied   \n",
       "17    18          shristy   13   17                64          Satisfied\n",
       "18    19          Sarthak   16   12                52          Satisfied\n",
       "19    20        Dhirendra   10    0                57                Bad"
      ]
     },
     "execution_count": 61,
     "metadata": {},
     "output_type": "execute_result"
    }
   ],
   "source": [
    "df"
   ]
  },
  {
   "cell_type": "code",
   "execution_count": 62,
   "metadata": {},
   "outputs": [],
   "source": [
    "# Average Marks of CT-1, CT-2, EndSem"
   ]
  },
  {
   "cell_type": "code",
   "execution_count": 63,
   "metadata": {},
   "outputs": [
    {
     "data": {
      "image/png": "[encoded data removed]",
      "text/plain": [
       "<Figure size 576x432 with 1 Axes>"
      ]
     },
     "metadata": {
      "needs_background": "light"
     },
     "output_type": "display_data"
    }
   ],
   "source": [
    "import matplotlib.pyplot as plt\n",
    "import seaborn as sns\n",
    "average = 75\n",
    "plt.figure(figsize=(8, 6))\n",
    "sns.barplot(x=['Average', '100'], y=[average, 100], palette=\"viridis\")\n",
    "plt.ylabel('Value')\n",
    "plt.title('Comparison of Average to 100')\n",
    "plt.show()\n"
   ]
  },
  {
   "cell_type": "code",
   "execution_count": 64,
   "metadata": {},
   "outputs": [
    {
     "name": "stdout",
     "output_type": "stream",
     "text": [
      "Requirement already satisfied: seaborn in c:\\users\\dell\\appdata\\local\\programs\\python\\python36\\lib\\site-packages (0.11.2)Note: you may need to restart the kernel to use updated packages.\n",
      "Requirement already satisfied: numpy>=1.15 in c:\\users\\dell\\appdata\\local\\programs\\python\\python36\\lib\\site-packages (from seaborn) (1.19.5)\n",
      "Requirement already satisfied: matplotlib>=2.2 in c:\\users\\dell\\appdata\\local\\programs\\python\\python36\\lib\\site-packages (from seaborn) (3.3.4)\n",
      "\n",
      "Requirement already satisfied: pandas>=0.23 in c:\\users\\dell\\appdata\\local\\programs\\python\\python36\\lib\\site-packages (from seaborn) (1.1.5)\n",
      "Requirement already satisfied: scipy>=1.0 in c:\\users\\dell\\appdata\\local\\programs\\python\\python36\\lib\\site-packages (from seaborn) (1.5.4)\n",
      "Requirement already satisfied: python-dateutil>=2.1 in c:\\users\\dell\\appdata\\local\\programs\\python\\python36\\lib\\site-packages (from matplotlib>=2.2->seaborn) (2.8.1)\n",
      "Requirement already satisfied: kiwisolver>=1.0.1 in c:\\users\\dell\\appdata\\local\\programs\\python\\python36\\lib\\site-packages (from matplotlib>=2.2->seaborn) (1.3.1)\n",
      "Requirement already satisfied: cycler>=0.10 in c:\\users\\dell\\appdata\\local\\programs\\python\\python36\\lib\\site-packages (from matplotlib>=2.2->seaborn) (0.11.0)\n",
      "Requirement already satisfied: pyparsing!=2.0.4,!=2.1.2,!=2.1.6,>=2.0.3 in c:\\users\\dell\\appdata\\local\\programs\\python\\python36\\lib\\site-packages (from matplotlib>=2.2->seaborn) (2.4.7)\n",
      "Requirement already satisfied: pillow>=6.2.0 in c:\\users\\dell\\appdata\\local\\programs\\python\\python36\\lib\\site-packages (from matplotlib>=2.2->seaborn) (8.4.0)\n",
      "Requirement already satisfied: pytz>=2017.2 in c:\\users\\dell\\appdata\\local\\programs\\python\\python36\\lib\\site-packages (from pandas>=0.23->seaborn) (2021.1)\n",
      "Requirement already satisfied: six>=1.5 in c:\\users\\dell\\appdata\\local\\programs\\python\\python36\\lib\\site-packages (from python-dateutil>=2.1->matplotlib>=2.2->seaborn) (1.15.0)\n"
     ]
    }
   ],
   "source": [
    "pip install seaborn"
   ]
  },
  {
   "cell_type": "code",
   "execution_count": 65,
   "metadata": {},
   "outputs": [
    {
     "data": {
      "image/png": "[encoded data removed]",
      "text/plain": [
       "<Figure size 144x576 with 1 Axes>"
      ]
     },
     "metadata": {
      "needs_background": "light"
     },
     "output_type": "display_data"
    }
   ],
   "source": [
    "import matplotlib.pyplot as plt\n",
    "import seaborn as sns\n",
    "average = df['UNIVERSITY MARKS'].mean()\n",
    "plt.figure(figsize=(2, 8))\n",
    "sns.barplot(x=['University Marks'], y=[average], palette=\"viridis\")\n",
    "plt.title('Average')\n",
    "plt.show()"
   ]
  },
  {
   "cell_type": "code",
   "execution_count": 66,
   "metadata": {},
   "outputs": [
    {
     "data": {
      "image/png": "[encoded data removed]",
      "text/plain": [
       "<Figure size 144x576 with 1 Axes>"
      ]
     },
     "metadata": {
      "needs_background": "light"
     },
     "output_type": "display_data"
    }
   ],
   "source": [
    "average = df['CT1'].mean()\n",
    "plt.figure(figsize=(2, 8))\n",
    "sns.barplot(x=['CT1'], y=[average], palette=\"viridis\")\n",
    "plt.title('Average')\n",
    "plt.show()"
   ]
  },
  {
   "cell_type": "code",
   "execution_count": 67,
   "metadata": {},
   "outputs": [
    {
     "data": {
      "image/png": "[encoded data removed]",
      "text/plain": [
       "<Figure size 144x576 with 1 Axes>"
      ]
     },
     "metadata": {
      "needs_background": "light"
     },
     "output_type": "display_data"
    }
   ],
   "source": [
    "average = df['CT2'].mean()\n",
    "plt.figure(figsize=(2, 8))\n",
    "sns.barplot(x=['CT2'], y=[average], palette=\"viridis\")\n",
    "plt.title('Average')\n",
    "plt.show()"
   ]
  },
  {
   "cell_type": "code",
   "execution_count": 68,
   "metadata": {},
   "outputs": [],
   "source": [
    "# Pass / Fail in CT-1, CT-2, EndSem Marks"
   ]
  },
  {
   "cell_type": "code",
   "execution_count": 69,
   "metadata": {},
   "outputs": [],
   "source": [
    "# average = df['CT2'].mean()\n",
    "# plt.figure(figsize=(2, 8))\n",
    "# sns.barplot(x=['CT2'], y=[average], palette=\"viridis\")\n",
    "# plt.title('Average')\n",
    "# plt.show()\n",
    "\n",
    "\n"
   ]
  },
  {
   "cell_type": "code",
   "execution_count": 70,
   "metadata": {},
   "outputs": [
    {
     "name": "stdout",
     "output_type": "stream",
     "text": [
      "Requirement already satisfied: matplotlib in c:\\users\\dell\\appdata\\local\\programs\\python\\python36\\lib\\site-packages (3.3.4)\n",
      "Requirement already satisfied: pillow>=6.2.0 in c:\\users\\dell\\appdata\\local\\programs\\python\\python36\\lib\\site-packages (from matplotlib) (8.4.0)\n",
      "Requirement already satisfied: kiwisolver>=1.0.1 in c:\\users\\dell\\appdata\\local\\programs\\python\\python36\\lib\\site-packages (from matplotlib) (1.3.1)\n",
      "Requirement already satisfied: cycler>=0.10 in c:\\users\\dell\\appdata\\local\\programs\\python\\python36\\lib\\site-packages (from matplotlib) (0.11.0)\n",
      "Requirement already satisfied: numpy>=1.15 in c:\\users\\dell\\appdata\\local\\programs\\python\\python36\\lib\\site-packages (from matplotlib) (1.19.5)\n",
      "Requirement already satisfied: pyparsing!=2.0.4,!=2.1.2,!=2.1.6,>=2.0.3 in c:\\users\\dell\\appdata\\local\\programs\\python\\python36\\lib\\site-packages (from matplotlib) (2.4.7)\n",
      "Requirement already satisfied: python-dateutil>=2.1 in c:\\users\\dell\\appdata\\local\\programs\\python\\python36\\lib\\site-packages (from matplotlib) (2.8.1)\n",
      "Requirement already satisfied: six>=1.5 in c:\\users\\dell\\appdata\\local\\programs\\python\\python36\\lib\\site-packages (from python-dateutil>=2.1->matplotlib) (1.15.0)\n",
      "Note: you may need to restart the kernel to use updated packages.\n"
     ]
    }
   ],
   "source": [
    "pip install matplotlib"
   ]
  },
  {
   "cell_type": "code",
   "execution_count": 71,
   "metadata": {},
   "outputs": [],
   "source": [
    "import matplotlib.pyplot as plt\n"
   ]
  },
  {
   "cell_type": "code",
   "execution_count": 72,
   "metadata": {},
   "outputs": [
    {
     "data": {
      "image/png": "[encoded data removed]",
      "text/plain": [
       "<Figure size 432x288 with 1 Axes>"
      ]
     },
     "metadata": {},
     "output_type": "display_data"
    }
   ],
   "source": [
    "pass_count = len(df[df['CT1'] >= 8])\n",
    "fail_count = len(df[df['CT1'] < 8])\n",
    "labels = ['Pass', 'Fail']\n",
    "counts = [pass_count, fail_count]\n",
    "plt.pie(counts, labels=labels, autopct='%1.1f%%', startangle=140)\n",
    "plt.axis('equal')  # Equal aspect ratio ensures that the pie chart is circular.\n",
    "plt.title('Pass vs. Fail Students')\n",
    "plt.show()"
   ]
  },
  {
   "cell_type": "code",
   "execution_count": 73,
   "metadata": {},
   "outputs": [
    {
     "data": {
      "image/png": "[encoded data removed]",
      "text/plain": [
       "<Figure size 432x288 with 1 Axes>"
      ]
     },
     "metadata": {},
     "output_type": "display_data"
    }
   ],
   "source": [
    "pass_count = len(df[df['CT2'] >= 8])\n",
    "fail_count = len(df[df['CT2'] < 8])\n",
    "labels = ['Pass', 'Fail']\n",
    "counts = [pass_count, fail_count]\n",
    "plt.pie(counts, labels=labels, autopct='%1.1f%%', startangle=140)\n",
    "plt.axis('equal')  # Equal aspect ratio ensures that the pie chart is circular.\n",
    "plt.title('Pass vs. Fail Students')\n",
    "plt.show()"
   ]
  },
  {
   "cell_type": "code",
   "execution_count": 74,
   "metadata": {},
   "outputs": [
    {
     "data": {
      "image/png": "[encoded data removed]",
      "text/plain": [
       "<Figure size 432x288 with 1 Axes>"
      ]
     },
     "metadata": {},
     "output_type": "display_data"
    }
   ],
   "source": [
    "pass_count = len(df[df['UNIVERSITY MARKS'] >= 35])\n",
    "fail_count = len(df[df['UNIVERSITY MARKS'] < 35])\n",
    "labels = ['Pass', 'Fail']\n",
    "counts = [pass_count, fail_count]\n",
    "plt.pie(counts, labels=labels, autopct='%1.1f%%', startangle=140)\n",
    "plt.axis('equal')  # Equal aspect ratio ensures that the pie chart is circular.\n",
    "plt.title('Pass vs. Fail Students')\n",
    "plt.show()"
   ]
  },
  {
   "cell_type": "code",
   "execution_count": 75,
   "metadata": {},
   "outputs": [],
   "source": [
    "# Variance of marks "
   ]
  },
  {
   "cell_type": "code",
   "execution_count": 76,
   "metadata": {},
   "outputs": [
    {
     "data": {
      "text/plain": [
       "29.560000000000002"
      ]
     },
     "execution_count": 76,
     "metadata": {},
     "output_type": "execute_result"
    }
   ],
   "source": [
    "import numpy as np\n",
    "variance = np.var(df['CT1'])\n",
    "variance"
   ]
  },
  {
   "cell_type": "code",
   "execution_count": 77,
   "metadata": {},
   "outputs": [
    {
     "data": {
      "image/png": "[encoded data removed]",
      "text/plain": [
       "<Figure size 432x288 with 1 Axes>"
      ]
     },
     "metadata": {
      "needs_background": "light"
     },
     "output_type": "display_data"
    }
   ],
   "source": [
    "import matplotlib.pyplot as plt\n",
    "from scipy.stats import norm\n",
    "mean = df['CT1'].mean()\n",
    "std_dev = 1    # df['CT1'].std()\n",
    "x = np.linspace(0,20, 100)\n",
    "pdf_values = norm.pdf(x, loc=mean, scale=std_dev)\n",
    "plt.plot(x, pdf_values, label='PDF')\n",
    "plt.title('Probability Distribution Function')\n",
    "plt.xlabel('X-axis')\n",
    "plt.ylabel('PDF Value')\n",
    "plt.legend()\n",
    "plt.grid(True)\n",
    "plt.show()\n"
   ]
  },
  {
   "cell_type": "code",
   "execution_count": 78,
   "metadata": {},
   "outputs": [
    {
     "data": {
      "image/png": "[encoded data removed]",
      "text/plain": [
       "<Figure size 432x288 with 1 Axes>"
      ]
     },
     "metadata": {
      "needs_background": "light"
     },
     "output_type": "display_data"
    }
   ],
   "source": [
    "mean = df['CT2'].mean()\n",
    "std_dev = 1    # df['CT2'].std()\n",
    "x = np.linspace(0,20, 100)\n",
    "pdf_values = norm.pdf(x, loc=mean, scale=std_dev)\n",
    "plt.plot(x, pdf_values, label='PDF')\n",
    "plt.title('Probability Distribution Function')\n",
    "plt.xlabel('X-axis')\n",
    "plt.ylabel('PDF Value')\n",
    "plt.legend()\n",
    "plt.grid(True)\n",
    "plt.show()"
   ]
  },
  {
   "cell_type": "code",
   "execution_count": 79,
   "metadata": {},
   "outputs": [
    {
     "data": {
      "image/png": "[encoded data removed]",
      "text/plain": [
       "<Figure size 432x288 with 1 Axes>"
      ]
     },
     "metadata": {
      "needs_background": "light"
     },
     "output_type": "display_data"
    }
   ],
   "source": [
    "mean = df['UNIVERSITY MARKS'].mean()\n",
    "std_dev = 1    # df['UNIVERSITY MARKS'].std()\n",
    "x = np.linspace(0,100, 100)\n",
    "pdf_values = norm.pdf(x, loc=mean, scale=std_dev)\n",
    "plt.plot(x, pdf_values, label='PDF')\n",
    "plt.title('Probability Distribution Function')\n",
    "plt.xlabel('X-axis')\n",
    "plt.ylabel('PDF Value')\n",
    "plt.legend()\n",
    "plt.grid(True)\n",
    "plt.show()"
   ]
  },
  {
   "cell_type": "code",
   "execution_count": 80,
   "metadata": {},
   "outputs": [],
   "source": [
    "# Student's Feedback"
   ]
  },
  {
   "cell_type": "code",
   "execution_count": 81,
   "metadata": {},
   "outputs": [
    {
     "data": {
      "image/png": "[encoded data removed]",
      "text/plain": [
       "<Figure size 432x288 with 1 Axes>"
      ]
     },
     "metadata": {
      "needs_background": "light"
     },
     "output_type": "display_data"
    }
   ],
   "source": [
    "data = df['FEEDBACK'] #{'Category': df['FEEDBACK']}\n",
    "df = pd.DataFrame(data)\n",
    "value_counts = df['FEEDBACK'].value_counts()\n",
    "value_counts.plot(kind='bar')\n",
    "plt.title('Bar Graph of Category Counts')\n",
    "plt.xlabel('Category')\n",
    "plt.ylabel('Count')\n",
    "plt.show()\n"
   ]
  },
  {
   "cell_type": "code",
   "execution_count": 82,
   "metadata": {},
   "outputs": [],
   "source": [
    "dip=pd.read_csv('major_dip.csv')\n",
    "toc=pd.read_csv('major_toc.csv')\n",
    "dbms=pd.read_csv('major_dbms.csv')"
   ]
  },
  {
   "cell_type": "code",
   "execution_count": 83,
   "metadata": {},
   "outputs": [
    {
     "data": {
      "text/html": [
       "<div>\n",
       "<style scoped>\n",
       "    .dataframe tbody tr th:only-of-type {\n",
       "        vertical-align: middle;\n",
       "    }\n",
       "\n",
       "    .dataframe tbody tr th {\n",
       "        vertical-align: top;\n",
       "    }\n",
       "\n",
       "    .dataframe thead th {\n",
       "        text-align: right;\n",
       "    }\n",
       "</style>\n",
       "<table border=\"1\" class=\"dataframe\">\n",
       "  <thead>\n",
       "    <tr style=\"text-align: right;\">\n",
       "      <th></th>\n",
       "      <th>Digital Image Processing</th>\n",
       "      <th>Unnamed: 1</th>\n",
       "      <th>Unnamed: 2</th>\n",
       "      <th>Unnamed: 3</th>\n",
       "      <th>Unnamed: 4</th>\n",
       "      <th>Unnamed: 5</th>\n",
       "      <th>Unnamed: 6</th>\n",
       "    </tr>\n",
       "  </thead>\n",
       "  <tbody>\n",
       "    <tr>\n",
       "      <th>0</th>\n",
       "      <td>S.NO</td>\n",
       "      <td>NAME</td>\n",
       "      <td>CT1</td>\n",
       "      <td>CT2</td>\n",
       "      <td>End Semester</td>\n",
       "      <td>Attendance</td>\n",
       "      <td>Feedback</td>\n",
       "    </tr>\n",
       "    <tr>\n",
       "      <th>1</th>\n",
       "      <td>1</td>\n",
       "      <td>Yash Sinha</td>\n",
       "      <td>15</td>\n",
       "      <td>14</td>\n",
       "      <td>54</td>\n",
       "      <td>63</td>\n",
       "      <td>satisfied</td>\n",
       "    </tr>\n",
       "    <tr>\n",
       "      <th>2</th>\n",
       "      <td>2</td>\n",
       "      <td>Arpita Tiwari</td>\n",
       "      <td>11</td>\n",
       "      <td>12</td>\n",
       "      <td>57</td>\n",
       "      <td>51</td>\n",
       "      <td>satisfied</td>\n",
       "    </tr>\n",
       "    <tr>\n",
       "      <th>3</th>\n",
       "      <td>3</td>\n",
       "      <td>Lalit Kumar</td>\n",
       "      <td>0</td>\n",
       "      <td>8</td>\n",
       "      <td>49</td>\n",
       "      <td>66</td>\n",
       "      <td>satisfied</td>\n",
       "    </tr>\n",
       "    <tr>\n",
       "      <th>4</th>\n",
       "      <td>4</td>\n",
       "      <td>Vibhuti Mishra</td>\n",
       "      <td>10</td>\n",
       "      <td>13</td>\n",
       "      <td>62</td>\n",
       "      <td>77</td>\n",
       "      <td>very satisfied</td>\n",
       "    </tr>\n",
       "  </tbody>\n",
       "</table>\n",
       "</div>"
      ],
      "text/plain": [
       "                                                                                                                                                                                                 Digital Image Processing  \\\n",
       "0                                               S.NO                                                                                                                                                                        \n",
       "1                                                  1                                                                                                                                                                        \n",
       "2                                                  2                                                                                                                                                                        \n",
       "3                                                  3                                                                                                                                                                        \n",
       "4                                                  4                                                                                                                                                                        \n",
       "\n",
       "       Unnamed: 1 Unnamed: 2 Unnamed: 3    Unnamed: 4  Unnamed: 5  \\\n",
       "0            NAME        CT1        CT2  End Semester  Attendance   \n",
       "1      Yash Sinha         15         14            54          63   \n",
       "2   Arpita Tiwari         11         12            57          51   \n",
       "3     Lalit Kumar          0          8            49          66   \n",
       "4  Vibhuti Mishra         10         13            62          77   \n",
       "\n",
       "       Unnamed: 6  \n",
       "0        Feedback  \n",
       "1       satisfied  \n",
       "2       satisfied  \n",
       "3       satisfied  \n",
       "4  very satisfied  "
      ]
     },
     "execution_count": 83,
     "metadata": {},
     "output_type": "execute_result"
    }
   ],
   "source": [
    "dip.head()"
   ]
  },
  {
   "cell_type": "code",
   "execution_count": 84,
   "metadata": {},
   "outputs": [
    {
     "data": {
      "text/plain": [
       "Index(['                                                                                                                                                                                               Digital Image Processing',\n",
       "       'Unnamed: 1', 'Unnamed: 2', 'Unnamed: 3', 'Unnamed: 4', 'Unnamed: 5',\n",
       "       'Unnamed: 6'],\n",
       "      dtype='object')"
      ]
     },
     "execution_count": 84,
     "metadata": {},
     "output_type": "execute_result"
    }
   ],
   "source": [
    "dip.columns"
   ]
  },
  {
   "cell_type": "code",
   "execution_count": 85,
   "metadata": {},
   "outputs": [],
   "source": [
    "dip.columns = ['Sno.', 'Name', 'CT1', 'CT2','University','Attendance','Feedback']"
   ]
  },
  {
   "cell_type": "code",
   "execution_count": 86,
   "metadata": {},
   "outputs": [],
   "source": [
    "dip=dip.drop(0)"
   ]
  },
  {
   "cell_type": "code",
   "execution_count": 87,
   "metadata": {},
   "outputs": [
    {
     "data": {
      "text/html": [
       "<div>\n",
       "<style scoped>\n",
       "    .dataframe tbody tr th:only-of-type {\n",
       "        vertical-align: middle;\n",
       "    }\n",
       "\n",
       "    .dataframe tbody tr th {\n",
       "        vertical-align: top;\n",
       "    }\n",
       "\n",
       "    .dataframe thead th {\n",
       "        text-align: right;\n",
       "    }\n",
       "</style>\n",
       "<table border=\"1\" class=\"dataframe\">\n",
       "  <thead>\n",
       "    <tr style=\"text-align: right;\">\n",
       "      <th></th>\n",
       "      <th>Sno.</th>\n",
       "      <th>Name</th>\n",
       "      <th>CT1</th>\n",
       "      <th>CT2</th>\n",
       "      <th>University</th>\n",
       "      <th>Attendance</th>\n",
       "      <th>Feedback</th>\n",
       "    </tr>\n",
       "  </thead>\n",
       "  <tbody>\n",
       "    <tr>\n",
       "      <th>1</th>\n",
       "      <td>1</td>\n",
       "      <td>Yash Sinha</td>\n",
       "      <td>15</td>\n",
       "      <td>14</td>\n",
       "      <td>54</td>\n",
       "      <td>63</td>\n",
       "      <td>satisfied</td>\n",
       "    </tr>\n",
       "    <tr>\n",
       "      <th>2</th>\n",
       "      <td>2</td>\n",
       "      <td>Arpita Tiwari</td>\n",
       "      <td>11</td>\n",
       "      <td>12</td>\n",
       "      <td>57</td>\n",
       "      <td>51</td>\n",
       "      <td>satisfied</td>\n",
       "    </tr>\n",
       "    <tr>\n",
       "      <th>3</th>\n",
       "      <td>3</td>\n",
       "      <td>Lalit Kumar</td>\n",
       "      <td>0</td>\n",
       "      <td>8</td>\n",
       "      <td>49</td>\n",
       "      <td>66</td>\n",
       "      <td>satisfied</td>\n",
       "    </tr>\n",
       "    <tr>\n",
       "      <th>4</th>\n",
       "      <td>4</td>\n",
       "      <td>Vibhuti Mishra</td>\n",
       "      <td>10</td>\n",
       "      <td>13</td>\n",
       "      <td>62</td>\n",
       "      <td>77</td>\n",
       "      <td>very satisfied</td>\n",
       "    </tr>\n",
       "    <tr>\n",
       "      <th>5</th>\n",
       "      <td>5</td>\n",
       "      <td>Vibha Mishra</td>\n",
       "      <td>9</td>\n",
       "      <td>0</td>\n",
       "      <td>37</td>\n",
       "      <td>33</td>\n",
       "      <td>satisfied</td>\n",
       "    </tr>\n",
       "  </tbody>\n",
       "</table>\n",
       "</div>"
      ],
      "text/plain": [
       "  Sno.            Name CT1 CT2 University Attendance        Feedback\n",
       "1    1      Yash Sinha  15  14         54         63       satisfied\n",
       "2    2   Arpita Tiwari  11  12         57         51       satisfied\n",
       "3    3     Lalit Kumar   0   8         49         66       satisfied\n",
       "4    4  Vibhuti Mishra  10  13         62         77  very satisfied\n",
       "5    5    Vibha Mishra   9   0         37         33       satisfied"
      ]
     },
     "execution_count": 87,
     "metadata": {},
     "output_type": "execute_result"
    }
   ],
   "source": [
    "dip.head()"
   ]
  },
  {
   "cell_type": "code",
   "execution_count": 88,
   "metadata": {},
   "outputs": [
    {
     "data": {
      "text/html": [
       "<div>\n",
       "<style scoped>\n",
       "    .dataframe tbody tr th:only-of-type {\n",
       "        vertical-align: middle;\n",
       "    }\n",
       "\n",
       "    .dataframe tbody tr th {\n",
       "        vertical-align: top;\n",
       "    }\n",
       "\n",
       "    .dataframe thead th {\n",
       "        text-align: right;\n",
       "    }\n",
       "</style>\n",
       "<table border=\"1\" class=\"dataframe\">\n",
       "  <thead>\n",
       "    <tr style=\"text-align: right;\">\n",
       "      <th></th>\n",
       "      <th>Theory of Computation</th>\n",
       "      <th>Unnamed: 1</th>\n",
       "      <th>Unnamed: 2</th>\n",
       "      <th>Unnamed: 3</th>\n",
       "      <th>Unnamed: 4</th>\n",
       "      <th>Unnamed: 5</th>\n",
       "      <th>Unnamed: 6</th>\n",
       "    </tr>\n",
       "  </thead>\n",
       "  <tbody>\n",
       "    <tr>\n",
       "      <th>0</th>\n",
       "      <td>S.NO</td>\n",
       "      <td>NAME</td>\n",
       "      <td>CT1</td>\n",
       "      <td>CT2</td>\n",
       "      <td>End Semester</td>\n",
       "      <td>Attendance</td>\n",
       "      <td>Feedback</td>\n",
       "    </tr>\n",
       "    <tr>\n",
       "      <th>1</th>\n",
       "      <td>1</td>\n",
       "      <td>Yash Sinha</td>\n",
       "      <td>18</td>\n",
       "      <td>0</td>\n",
       "      <td>60</td>\n",
       "      <td>75</td>\n",
       "      <td>very satisfied</td>\n",
       "    </tr>\n",
       "    <tr>\n",
       "      <th>2</th>\n",
       "      <td>2</td>\n",
       "      <td>Arpita Tiwari</td>\n",
       "      <td>19</td>\n",
       "      <td>0</td>\n",
       "      <td>57</td>\n",
       "      <td>64</td>\n",
       "      <td>satisfied</td>\n",
       "    </tr>\n",
       "    <tr>\n",
       "      <th>3</th>\n",
       "      <td>3</td>\n",
       "      <td>Lalit Kumar</td>\n",
       "      <td>10</td>\n",
       "      <td>20</td>\n",
       "      <td>62</td>\n",
       "      <td>65</td>\n",
       "      <td>very satisfied</td>\n",
       "    </tr>\n",
       "    <tr>\n",
       "      <th>4</th>\n",
       "      <td>4</td>\n",
       "      <td>Vibhuti Mishra</td>\n",
       "      <td>18</td>\n",
       "      <td>15</td>\n",
       "      <td>69</td>\n",
       "      <td>85</td>\n",
       "      <td>unsatisfied</td>\n",
       "    </tr>\n",
       "  </tbody>\n",
       "</table>\n",
       "</div>"
      ],
      "text/plain": [
       "                                                                                                                                                                                                      Theory of Computation  \\\n",
       "0                                               S.NO                                                                                                                                                                          \n",
       "1                                                  1                                                                                                                                                                          \n",
       "2                                                  2                                                                                                                                                                          \n",
       "3                                                  3                                                                                                                                                                          \n",
       "4                                                  4                                                                                                                                                                          \n",
       "\n",
       "       Unnamed: 1 Unnamed: 2 Unnamed: 3    Unnamed: 4  Unnamed: 5  \\\n",
       "0            NAME        CT1        CT2  End Semester  Attendance   \n",
       "1      Yash Sinha         18          0            60          75   \n",
       "2   Arpita Tiwari         19          0            57          64   \n",
       "3     Lalit Kumar         10         20            62          65   \n",
       "4  Vibhuti Mishra         18         15            69          85   \n",
       "\n",
       "       Unnamed: 6  \n",
       "0        Feedback  \n",
       "1  very satisfied  \n",
       "2       satisfied  \n",
       "3  very satisfied  \n",
       "4     unsatisfied  "
      ]
     },
     "execution_count": 88,
     "metadata": {},
     "output_type": "execute_result"
    }
   ],
   "source": [
    "toc.head()"
   ]
  },
  {
   "cell_type": "code",
   "execution_count": 89,
   "metadata": {},
   "outputs": [
    {
     "data": {
      "text/plain": [
       "Index(['                                                                                                                                                                                                    Theory of Computation',\n",
       "       'Unnamed: 1', 'Unnamed: 2', 'Unnamed: 3', 'Unnamed: 4', 'Unnamed: 5',\n",
       "       'Unnamed: 6'],\n",
       "      dtype='object')"
      ]
     },
     "execution_count": 89,
     "metadata": {},
     "output_type": "execute_result"
    }
   ],
   "source": [
    "toc.columns"
   ]
  },
  {
   "cell_type": "code",
   "execution_count": 90,
   "metadata": {},
   "outputs": [],
   "source": [
    "toc.columns = ['Sno.', 'Name', 'CT1', 'CT2','University','Attendance','Feedback']"
   ]
  },
  {
   "cell_type": "code",
   "execution_count": 91,
   "metadata": {},
   "outputs": [],
   "source": [
    "toc=toc.drop(0)"
   ]
  },
  {
   "cell_type": "code",
   "execution_count": 92,
   "metadata": {},
   "outputs": [
    {
     "data": {
      "text/html": [
       "<div>\n",
       "<style scoped>\n",
       "    .dataframe tbody tr th:only-of-type {\n",
       "        vertical-align: middle;\n",
       "    }\n",
       "\n",
       "    .dataframe tbody tr th {\n",
       "        vertical-align: top;\n",
       "    }\n",
       "\n",
       "    .dataframe thead th {\n",
       "        text-align: right;\n",
       "    }\n",
       "</style>\n",
       "<table border=\"1\" class=\"dataframe\">\n",
       "  <thead>\n",
       "    <tr style=\"text-align: right;\">\n",
       "      <th></th>\n",
       "      <th>Sno.</th>\n",
       "      <th>Name</th>\n",
       "      <th>CT1</th>\n",
       "      <th>CT2</th>\n",
       "      <th>University</th>\n",
       "      <th>Attendance</th>\n",
       "      <th>Feedback</th>\n",
       "    </tr>\n",
       "  </thead>\n",
       "  <tbody>\n",
       "    <tr>\n",
       "      <th>1</th>\n",
       "      <td>1</td>\n",
       "      <td>Yash Sinha</td>\n",
       "      <td>18</td>\n",
       "      <td>0</td>\n",
       "      <td>60</td>\n",
       "      <td>75</td>\n",
       "      <td>very satisfied</td>\n",
       "    </tr>\n",
       "    <tr>\n",
       "      <th>2</th>\n",
       "      <td>2</td>\n",
       "      <td>Arpita Tiwari</td>\n",
       "      <td>19</td>\n",
       "      <td>0</td>\n",
       "      <td>57</td>\n",
       "      <td>64</td>\n",
       "      <td>satisfied</td>\n",
       "    </tr>\n",
       "    <tr>\n",
       "      <th>3</th>\n",
       "      <td>3</td>\n",
       "      <td>Lalit Kumar</td>\n",
       "      <td>10</td>\n",
       "      <td>20</td>\n",
       "      <td>62</td>\n",
       "      <td>65</td>\n",
       "      <td>very satisfied</td>\n",
       "    </tr>\n",
       "    <tr>\n",
       "      <th>4</th>\n",
       "      <td>4</td>\n",
       "      <td>Vibhuti Mishra</td>\n",
       "      <td>18</td>\n",
       "      <td>15</td>\n",
       "      <td>69</td>\n",
       "      <td>85</td>\n",
       "      <td>unsatisfied</td>\n",
       "    </tr>\n",
       "    <tr>\n",
       "      <th>5</th>\n",
       "      <td>5</td>\n",
       "      <td>Vibha Mishra</td>\n",
       "      <td>12</td>\n",
       "      <td>9</td>\n",
       "      <td>46</td>\n",
       "      <td>77</td>\n",
       "      <td>satisfied</td>\n",
       "    </tr>\n",
       "  </tbody>\n",
       "</table>\n",
       "</div>"
      ],
      "text/plain": [
       "  Sno.            Name CT1 CT2 University Attendance        Feedback\n",
       "1    1      Yash Sinha  18   0         60         75  very satisfied\n",
       "2    2   Arpita Tiwari  19   0         57         64       satisfied\n",
       "3    3     Lalit Kumar  10  20         62         65  very satisfied\n",
       "4    4  Vibhuti Mishra  18  15         69         85     unsatisfied\n",
       "5    5    Vibha Mishra  12   9         46         77       satisfied"
      ]
     },
     "execution_count": 92,
     "metadata": {},
     "output_type": "execute_result"
    }
   ],
   "source": [
    "toc.head()"
   ]
  },
  {
   "cell_type": "code",
   "execution_count": 93,
   "metadata": {},
   "outputs": [
    {
     "data": {
      "text/html": [
       "<div>\n",
       "<style scoped>\n",
       "    .dataframe tbody tr th:only-of-type {\n",
       "        vertical-align: middle;\n",
       "    }\n",
       "\n",
       "    .dataframe tbody tr th {\n",
       "        vertical-align: top;\n",
       "    }\n",
       "\n",
       "    .dataframe thead th {\n",
       "        text-align: right;\n",
       "    }\n",
       "</style>\n",
       "<table border=\"1\" class=\"dataframe\">\n",
       "  <thead>\n",
       "    <tr style=\"text-align: right;\">\n",
       "      <th></th>\n",
       "      <th>S.NO</th>\n",
       "      <th>NAME</th>\n",
       "      <th>CT1</th>\n",
       "      <th>CT2</th>\n",
       "      <th>UNIVERSITY MARKS</th>\n",
       "      <th>FEEDBACK</th>\n",
       "    </tr>\n",
       "  </thead>\n",
       "  <tbody>\n",
       "    <tr>\n",
       "      <th>0</th>\n",
       "      <td>1</td>\n",
       "      <td>Yash Sinha</td>\n",
       "      <td>17</td>\n",
       "      <td>0</td>\n",
       "      <td>80</td>\n",
       "      <td>Very Satisfied</td>\n",
       "    </tr>\n",
       "    <tr>\n",
       "      <th>1</th>\n",
       "      <td>2</td>\n",
       "      <td>Arpita Tiwari</td>\n",
       "      <td>16</td>\n",
       "      <td>0</td>\n",
       "      <td>75</td>\n",
       "      <td>Very Satisfied</td>\n",
       "    </tr>\n",
       "    <tr>\n",
       "      <th>2</th>\n",
       "      <td>3</td>\n",
       "      <td>Lalit Kumar</td>\n",
       "      <td>14</td>\n",
       "      <td>9</td>\n",
       "      <td>70</td>\n",
       "      <td>Fair</td>\n",
       "    </tr>\n",
       "    <tr>\n",
       "      <th>3</th>\n",
       "      <td>4</td>\n",
       "      <td>Vibhuti Mishra</td>\n",
       "      <td>19</td>\n",
       "      <td>10</td>\n",
       "      <td>82</td>\n",
       "      <td>Satisfied</td>\n",
       "    </tr>\n",
       "    <tr>\n",
       "      <th>4</th>\n",
       "      <td>5</td>\n",
       "      <td>Vibha Mishra</td>\n",
       "      <td>13</td>\n",
       "      <td>8</td>\n",
       "      <td>65</td>\n",
       "      <td>Satisfied</td>\n",
       "    </tr>\n",
       "  </tbody>\n",
       "</table>\n",
       "</div>"
      ],
      "text/plain": [
       "   S.NO            NAME  CT1  CT2  UNIVERSITY MARKS           FEEDBACK\n",
       "0     1      Yash Sinha   17    0                80  Very Satisfied   \n",
       "1     2   Arpita Tiwari   16    0                75  Very Satisfied   \n",
       "2     3     Lalit Kumar   14    9                70               Fair\n",
       "3     4  Vibhuti Mishra   19   10                82          Satisfied\n",
       "4     5    Vibha Mishra   13    8                65          Satisfied"
      ]
     },
     "execution_count": 93,
     "metadata": {},
     "output_type": "execute_result"
    }
   ],
   "source": [
    "dbms.head()"
   ]
  },
  {
   "cell_type": "code",
   "execution_count": null,
   "metadata": {},
   "outputs": [],
   "source": []
  }
 ],
 "metadata": {
  "kernelspec": {
   "display_name": "Python 3",
   "language": "python",
   "name": "python3"
  },
  "language_info": {
   "codemirror_mode": {
    "name": "ipython",
    "version": 3
   },
   "file_extension": ".py",
   "mimetype": "text/x-python",
   "name": "python",
   "nbconvert_exporter": "python",
   "pygments_lexer": "ipython3",
   "version": "3.6.2"
  }
 },
 "nbformat": 4,
 "nbformat_minor": 2
}
